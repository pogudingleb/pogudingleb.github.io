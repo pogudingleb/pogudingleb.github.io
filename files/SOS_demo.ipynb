{
 "cells": [
  {
   "cell_type": "markdown",
   "metadata": {},
   "source": [
    "## Что можно\n",
    "\n",
    "Современные алгоритмы позволяют достаточно эффективно решать следующие задачи:\n",
    "* Проверить является ли данный многочлен SOS\n",
    "* Для многочлена $p(x_1, \\ldots, x_n, c_1, \\ldots, c_m)$ *линейного* относительно $c_1, \\ldots, c_m$ и *линейной* функции $\\ell(c_1, \\ldots, c_m)$ найти максимум $\\ell(c_1, \\ldots, c_m)$ среди всех наборов чисел $c_1, \\ldots, c_m$ таких, что $p(x_1, \\ldots, x_n, c_1, \\ldots, c_m)$ является SOS *относительно* $c_1, \\ldots, c_m$.\n",
    "* Все это ещё можно делать не на всем пространстве, а при наличии условий на $x_1, \\ldots, x_n$ (про это завтра).\n",
    "\n",
    "Одной из библиотек, которая умеет делать такие вещи является SumOfSquares.jl на языке Julia."
   ]
  },
  {
   "cell_type": "code",
   "execution_count": 1,
   "metadata": {},
   "outputs": [
    {
     "name": "stderr",
     "output_type": "stream",
     "text": [
      "┌ Info: Precompiling SumOfSquares [4b9e565b-77fc-50a5-a571-1244f986bda1]\n",
      "└ @ Base loading.jl:1260\n",
      "┌ Info: Precompiling MosekTools [1ec41992-ff65-5c91-ac43-2df89e9693a4]\n",
      "└ @ Base loading.jl:1260\n"
     ]
    }
   ],
   "source": [
    "using SumOfSquares\n",
    "using DynamicPolynomials\n",
    "using Mosek\n",
    "using MosekTools"
   ]
  },
  {
   "cell_type": "markdown",
   "metadata": {},
   "source": [
    "## Проверка SOS"
   ]
  },
  {
   "cell_type": "markdown",
   "metadata": {},
   "source": [
    "**Пример 1.** Неравенство о средних для двух чисел $x^2 + y^2 - 2 xy \\geqslant 0$"
   ]
  },
  {
   "cell_type": "code",
   "execution_count": 2,
   "metadata": {},
   "outputs": [
    {
     "name": "stdout",
     "output_type": "stream",
     "text": [
      "termination_status(model) = MathOptInterface.OPTIMAL\n"
     ]
    },
    {
     "data": {
      "text/latex": [
       "$$ -x + y $$"
      ],
      "text/plain": [
       "-x + y"
      ]
     },
     "execution_count": 2,
     "metadata": {},
     "output_type": "execute_result"
    }
   ],
   "source": [
    "@polyvar x y\n",
    "opt = optimizer_with_attributes(Mosek.Optimizer, \"QUIET\" => true);\n",
    "model = SOSModel(opt)\n",
    "con_ref = @constraint(model, x^2 - 2 * x * y + y^2 >= 0)\n",
    "optimize!(model)\n",
    "@show termination_status(model)\n",
    "round(sos_decomposition(con_ref)[1], digits=3)"
   ]
  },
  {
   "cell_type": "markdown",
   "metadata": {},
   "source": [
    "**Пример 2.** Неравенство о средних для трех чисел $x^6 + y^6 + z^6 - 3 x^2 y^2 z^2 \\geqslant 0$"
   ]
  },
  {
   "cell_type": "code",
   "execution_count": 4,
   "metadata": {},
   "outputs": [
    {
     "name": "stdout",
     "output_type": "stream",
     "text": [
      "termination_status(model) = MathOptInterface.OPTIMAL\n",
      "0.056*x^3 + 0.031*x^2*y + 0.032*x^2*z - 0.892*x*y^2 + 0.836*x*z^2 - 0.007*y^3 - 0.022*y^2*z - 0.024*y*z^2 - 0.01*z^3\n",
      "-0.936*x^2*y - 0.042*x^2*z - 0.029*x*y^2 + 0.03*x*z^2 + 0.167*y^3 + 0.051*y^2*z + 0.768*y*z^2 - 0.008*z^3\n",
      "0.014*x^3 + 0.057*x^2*y - 0.923*x^2*z - 0.033*x*y^2 + 0.019*x*z^2 - 0.029*y^3 + 0.791*y^2*z - 0.028*y*z^2 + 0.132*z^3\n",
      "0.706*x^3 - 0.112*x^2*y + 0.237*x^2*z - 0.316*x*y^2 - 0.391*x*z^2 + 0.338*y^3 + 0.375*y^2*z - 0.226*y*z^2 - 0.612*z^3\n",
      "-0.705*x^3 - 0.1*x^2*y + 0.227*x^2*z + 0.321*x*y^2 + 0.384*x*z^2 + 0.314*y^3 + 0.397*y^2*z - 0.214*y*z^2 - 0.624*z^3\n",
      "0.019*x^3 + 0.312*x^2*y + 0.196*x^2*z - 0.004*x*y^2 - 0.015*x*z^2 - 0.871*y^3 + 0.272*y^2*z + 0.558*y*z^2 - 0.468*z^3\n",
      "0.0\n",
      "0.0\n",
      "0.0\n",
      "0.0\n"
     ]
    }
   ],
   "source": [
    "@polyvar x y z\n",
    "opt = optimizer_with_attributes(Mosek.Optimizer, \"QUIET\" => true);\n",
    "model = SOSModel(opt)\n",
    "con_ref = @constraint(model, x^6 + y^6 + z^6 - 3 * x^2 * y^2 * z^2 >= 0)\n",
    "optimize!(model)\n",
    "@show termination_status(model)\n",
    "for p = sos_decomposition(con_ref)\n",
    "    print(round(p, digits=3), \"\\n\")\n",
    "end"
   ]
  },
  {
   "cell_type": "markdown",
   "metadata": {},
   "source": [
    "Заметим, что разложение отличается от того, которое было в анонсе курса, их, вообще говоря, бесконечно много разных."
   ]
  },
  {
   "cell_type": "markdown",
   "metadata": {},
   "source": [
    "**Пример 3.** Многочлен Моцкина $x^4 y^2 + x^2 y^4 - 3 x^2 y^2 + 1$"
   ]
  },
  {
   "cell_type": "code",
   "execution_count": 5,
   "metadata": {},
   "outputs": [
    {
     "name": "stdout",
     "output_type": "stream",
     "text": [
      "termination_status(model) = MathOptInterface.INFEASIBLE\n"
     ]
    },
    {
     "data": {
      "text/plain": [
       "INFEASIBLE::TerminationStatusCode = 2"
      ]
     },
     "execution_count": 5,
     "metadata": {},
     "output_type": "execute_result"
    }
   ],
   "source": [
    "opt = optimizer_with_attributes(Mosek.Optimizer, \"QUIET\" => true);\n",
    "model = SOSModel(opt)\n",
    "moz = x^4*y^2 + x^2*y^4 - 3*x^2*y^2 + 1\n",
    "@constraint(model, moz >= 0)\n",
    "optimize!(model)\n",
    "@show termination_status(model)"
   ]
  },
  {
   "cell_type": "markdown",
   "metadata": {},
   "source": [
    "Это означает, что разложения в сумму квадратов нет."
   ]
  },
  {
   "cell_type": "markdown",
   "metadata": {},
   "source": [
    "**Пример 4.** А теперь умножим на $(x^2 + y^2)$"
   ]
  },
  {
   "cell_type": "code",
   "execution_count": null,
   "metadata": {},
   "outputs": [],
   "source": [
    "opt = optimizer_with_attributes(Mosek.Optimizer, \"QUIET\" => true);\n",
    "model = SOSModel(opt)\n",
    "moz = x^4*y^2 + x^2*y^4 - 3*x^2*y^2 + 1\n",
    "con_ref = @constraint(model, moz * (x^2 + y^2) >= 0)\n",
    "optimize!(model)\n",
    "@show termination_status(model)\n",
    "for p = sos_decomposition(con_ref)\n",
    "    print(round(p, digits=3), \"\\n\")\n",
    "end"
   ]
  },
  {
   "cell_type": "markdown",
   "metadata": {},
   "source": [
    "Утверждается, что многочлен Моцкина умноженный на $x^2 + y^2$ является суммой квадратов многочленов выше. Заметим, что это приближенное равенство (и нулевые многочлены на самом деле не нулевые, а очень близкие к нулю). Однако, мы можем округлить числа и проверить, вдруг получится точное разложение:"
   ]
  },
  {
   "cell_type": "code",
   "execution_count": 12,
   "metadata": {},
   "outputs": [
    {
     "data": {
      "text/latex": [
       "$$ 0 $$"
      ],
      "text/plain": [
       "0"
      ]
     },
     "execution_count": 12,
     "metadata": {},
     "output_type": "execute_result"
    }
   ],
   "source": [
    "((-x^3*y - x*y^3 + 2*x*y)^2 + (-x^2*y + y)^2 + (x*y^2 - x)^2)  - moz * (x^2 + y^2)"
   ]
  },
  {
   "cell_type": "markdown",
   "metadata": {},
   "source": [
    "И действительно получилось! То, как округлять, чтобы получать верные равенства - отдельная история."
   ]
  },
  {
   "cell_type": "markdown",
   "metadata": {},
   "source": [
    "## SOS оптимизация\n",
    "\n",
    "Простешим примером использования SOS оптимизации является поиск нижних оценко на значение многочлена. Например, если мы хотим найти нижнюю оценку на $p(x_1, \\ldots, x_n)$, мы можем поискать максимум $c$ такой, что $p(x_1, \\ldots, x_n) - c$ является SOS"
   ]
  },
  {
   "cell_type": "code",
   "execution_count": 9,
   "metadata": {},
   "outputs": [
    {
     "name": "stdout",
     "output_type": "stream",
     "text": [
      "termination_status(model) = MathOptInterface.INFEASIBLE\n",
      "round(value(c), digits = 3) = -0.652\n"
     ]
    },
    {
     "data": {
      "text/plain": [
       "-0.652"
      ]
     },
     "execution_count": 9,
     "metadata": {},
     "output_type": "execute_result"
    }
   ],
   "source": [
    "opt = optimizer_with_attributes(Mosek.Optimizer, \"QUIET\" => true);\n",
    "model = SOSModel(opt)\n",
    "@variable(model, c)\n",
    "moz = x^4*y^2 + x^2*y^4 - 3*x^2*y^2 + 1\n",
    "@constraint(model, moz - c >= 0)\n",
    "@objective(model, Max, c)\n",
    "optimize!(model)\n",
    "@show termination_status(model)\n",
    "@show round(value(c), digits = 3)"
   ]
  },
  {
   "cell_type": "markdown",
   "metadata": {},
   "source": [
    "Так мы выяснили, что многочлен Моцкина всегда $\\geqslant -0.655$. Но ведь мы же знаем, что он неотрицателен! Чтобы получить оценку получше, можно прибегнуть к теореме Артина (а точнее Пойа-Резника)"
   ]
  },
  {
   "cell_type": "code",
   "execution_count": 10,
   "metadata": {},
   "outputs": [
    {
     "name": "stdout",
     "output_type": "stream",
     "text": [
      "termination_status(model) = MathOptInterface.OPTIMAL\n",
      "round(value(c), digits = 3) = -0.0\n"
     ]
    },
    {
     "data": {
      "text/plain": [
       "-0.0"
      ]
     },
     "execution_count": 10,
     "metadata": {},
     "output_type": "execute_result"
    }
   ],
   "source": [
    "opt = optimizer_with_attributes(Mosek.Optimizer, \"QUIET\" => true);\n",
    "model = SOSModel(opt)\n",
    "@variable(model, c)\n",
    "moz = x^4 * y^2 + x^2 * y^4 - 3 * x^2 * y^2 + 1\n",
    "@constraint(model, moz * (x^2 + y^2) - c * (x^2 + y^2) >= 0)\n",
    "@objective(model, Max, c)\n",
    "optimize!(model)\n",
    "@show termination_status(model)\n",
    "@show round(value(c), digits = 3)"
   ]
  },
  {
   "cell_type": "code",
   "execution_count": null,
   "metadata": {},
   "outputs": [],
   "source": []
  }
 ],
 "metadata": {
  "kernelspec": {
   "display_name": "Julia 1.4.2",
   "language": "julia",
   "name": "julia-1.4"
  },
  "language_info": {
   "file_extension": ".jl",
   "mimetype": "application/julia",
   "name": "julia",
   "version": "1.4.2"
  }
 },
 "nbformat": 4,
 "nbformat_minor": 4
}
