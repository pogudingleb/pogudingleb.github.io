{
 "cells": [
  {
   "cell_type": "markdown",
   "metadata": {},
   "source": [
    "## Что можно\n",
    "\n",
    "Современные алгоритмы позволяют достаточно эффективно решать следующие задачи:\n",
    "* Проверить является ли данный многочлен SOS\n",
    "* Для многочлена $p(x_1, \\ldots, x_n, c_1, \\ldots, c_m)$ *линейного* относительно $c_1, \\ldots, c_m$ и *линейной* функции $\\ell(c_1, \\ldots, c_m)$ найти максимум $\\ell(c_1, \\ldots, c_m)$ среди всех наборов чисел $c_1, \\ldots, c_m$ таких, что $p(x_1, \\ldots, x_n, c_1, \\ldots, c_m)$ является SOS *относительно* $c_1, \\ldots, c_m$.\n",
    "* Все это ещё можно делать не на всем пространстве, а при наличии условий на $x_1, \\ldots, x_n$ (про это завтра).\n",
    "\n",
    "Одной из библиотек, которая умеет делать такие вещи является SumOfSquares.jl на языке Julia."
   ]
  },
  {
   "cell_type": "code",
   "execution_count": 1,
   "metadata": {},
   "outputs": [
    {
     "name": "stderr",
     "output_type": "stream",
     "text": [
      "┌ Info: Precompiling SumOfSquares [4b9e565b-77fc-50a5-a571-1244f986bda1]\n",
      "└ @ Base loading.jl:1260\n",
      "┌ Info: Precompiling MosekTools [1ec41992-ff65-5c91-ac43-2df89e9693a4]\n",
      "└ @ Base loading.jl:1260\n"
     ]
    }
   ],
   "source": [
    "using SumOfSquares\n",
    "using DynamicPolynomials\n",
    "using Mosek\n",
    "using MosekTools"
   ]
  },
  {
   "cell_type": "markdown",
   "metadata": {},
   "source": [
    "## Проверка SOS"
   ]
  },
  {
   "cell_type": "markdown",
   "metadata": {},
   "source": [
    "**Пример 1.** Неравенство о средних для двух чисел $x^2 + y^2 - 2 xy \\geqslant 0$"
   ]
  },
  {
   "cell_type": "code",
   "execution_count": null,
   "metadata": {},
   "outputs": [],
   "source": [
    "@polyvar x y\n",
    "opt = optimizer_with_attributes(Mosek.Optimizer, \"QUIET\" => true);\n",
    "model = SOSModel(opt)\n",
    "con_ref = @constraint(model, x^2 - 2 * x * y + y^2 >= 0)\n",
    "optimize!(model)\n",
    "@show termination_status(model)\n",
    "round(sos_decomposition(con_ref)[1], digits=3)"
   ]
  },
  {
   "cell_type": "markdown",
   "metadata": {},
   "source": [
    "**Пример 2.** Неравенство о средних для трех чисел $x^6 + y^6 + z^6 - 3 x^2 y^2 z^2 \\geqslant 0$"
   ]
  },
  {
   "cell_type": "code",
   "execution_count": null,
   "metadata": {},
   "outputs": [],
   "source": [
    "@polyvar x y z\n",
    "opt = optimizer_with_attributes(Mosek.Optimizer, \"QUIET\" => true);\n",
    "model = SOSModel(opt)\n",
    "con_ref = @constraint(model, x^6 + y^6 + z^6 - 3 * x^2 * y^2 * z^2 >= 0)\n",
    "optimize!(model)\n",
    "@show termination_status(model)\n",
    "for p = sos_decomposition(con_ref)\n",
    "    print(round(p, digits=3))\n",
    "end"
   ]
  },
  {
   "cell_type": "markdown",
   "metadata": {},
   "source": [
    "**Пример 3.** Многочлен Моцкина $x^4 y^2 + x^2 y^4 - 3 x^2 y^2 + 1$"
   ]
  },
  {
   "cell_type": "code",
   "execution_count": null,
   "metadata": {},
   "outputs": [],
   "source": [
    "opt = optimizer_with_attributes(Mosek.Optimizer, \"QUIET\" => true);\n",
    "model = SOSModel(opt)\n",
    "moz = x^4*y^2 + x^2*y^4 - 3*x^2*y^2 + 1\n",
    "@constraint(model, moz >= 0)\n",
    "optimize!(model)\n",
    "@show termination_status(model)"
   ]
  },
  {
   "cell_type": "markdown",
   "metadata": {},
   "source": [
    "**Пример 4.** А теперь умножим на $(x^2 + y^2)$"
   ]
  },
  {
   "cell_type": "code",
   "execution_count": null,
   "metadata": {},
   "outputs": [],
   "source": [
    "opt = optimizer_with_attributes(Mosek.Optimizer, \"QUIET\" => true);\n",
    "model = SOSModel(opt)\n",
    "moz = x^4*y^2 + x^2*y^4 - 3*x^2*y^2 + 1\n",
    "con_ref = @constraint(model, moz * (x^2 + y^2) >= 0)\n",
    "optimize!(model)\n",
    "@show termination_status(model)\n",
    "for p = sos_decomposition(con_ref)\n",
    "    print(round(p, digits=3), \"\\n\")\n",
    "end"
   ]
  },
  {
   "cell_type": "code",
   "execution_count": null,
   "metadata": {},
   "outputs": [],
   "source": [
    "(-x^3*y - x*y^3 + 2.0*x*y)^2 + (-x^2*y + y)^2 + (x*y^2 - x)^2"
   ]
  },
  {
   "cell_type": "code",
   "execution_count": null,
   "metadata": {},
   "outputs": [],
   "source": [
    "moz * (x^2 + y^2)"
   ]
  },
  {
   "cell_type": "markdown",
   "metadata": {},
   "source": [
    "## SOS оптимизация\n",
    "\n",
    "Простешим примером использования SOS оптимизации является поиск нижних оценко на значение многочлена. Например, если мы хотим найти нижнюю оценку на $p(x_1, \\ldots, x_n)$, мы можем поискать максимум $c$ такой, что $p(x_1, \\ldots, x_n) - c$ является SOS"
   ]
  },
  {
   "cell_type": "code",
   "execution_count": null,
   "metadata": {},
   "outputs": [],
   "source": [
    "opt = optimizer_with_attributes(Mosek.Optimizer, \"QUIET\" => true);\n",
    "model = SOSModel(opt)\n",
    "@variable(model, c)\n",
    "moz = x^4*y^2 + x^2*y^4 - 3*x^2*y^2 + 1\n",
    "@constraint(model, moz - c >= 0)\n",
    "@objective(model, Max, c)\n",
    "optimize!(model)\n",
    "@show termination_status(model)\n",
    "@show round(value(c), digits = 3)"
   ]
  },
  {
   "cell_type": "markdown",
   "metadata": {},
   "source": [
    "Так мы выяснили, что многочлен Моцкина всегда $\\geqslant -0.655$. Но ведь мы же знаем, что он неотрицателен! Чтобы получить оценку получше, можно прибегнуть к теореме Артина (а точнее Пойа-Резника)"
   ]
  },
  {
   "cell_type": "code",
   "execution_count": null,
   "metadata": {},
   "outputs": [],
   "source": [
    "opt = optimizer_with_attributes(Mosek.Optimizer, \"QUIET\" => true);\n",
    "model = SOSModel(opt)\n",
    "@variable(model, c)\n",
    "moz = x^4 * y^2 + x^2 * y^4 - 3 * x^2 * y^2 + 1\n",
    "@constraint(model, moz * (x^2 + y^2) - c * (x^2 + y^2) >= 0)\n",
    "@objective(model, Max, c)\n",
    "optimize!(model)\n",
    "@show termination_status(model)\n",
    "@show round(value(c), digits = 3)"
   ]
  },
  {
   "cell_type": "code",
   "execution_count": null,
   "metadata": {},
   "outputs": [],
   "source": []
  }
 ],
 "metadata": {
  "kernelspec": {
   "display_name": "Julia 1.4.2",
   "language": "julia",
   "name": "julia-1.4"
  },
  "language_info": {
   "file_extension": ".jl",
   "mimetype": "application/julia",
   "name": "julia",
   "version": "1.4.2"
  }
 },
 "nbformat": 4,
 "nbformat_minor": 4
}
