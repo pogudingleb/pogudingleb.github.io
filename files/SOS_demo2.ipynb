{
 "cells": [
  {
   "cell_type": "markdown",
   "metadata": {},
   "source": [
    "## Ищем многочлены Чебышова\n",
    "\n",
    "Напомним, что алгоритмы SOS-оптимизации умеют решать следующую задачу.\n",
    "\n",
    "**Вход:** многочлен $p(x_1, \\ldots, x_n, c_1, \\ldots, c_m)$ линейный относительно $c_1, \\ldots, c_m$ и линейная функция $\\ell(c_1, \\ldots, c_m)$\n",
    "\n",
    "**Выход:** Максимальное значение $\\ell(c_1, \\ldots, c_m)$ среди наборов чисел $c_1, \\ldots, c_m$, для которых $p(x_1, \\ldots, x_n, c_1, \\ldots, c_m)$ - SOS относительно $x_1, \\ldots, x_n$."
   ]
  },
  {
   "cell_type": "markdown",
   "metadata": {},
   "source": [
    "**Пример:** Чему равно наибольшее значение $a$, при котором $x^2 + ax + 4$ является суммой квадратов?"
   ]
  },
  {
   "cell_type": "code",
   "execution_count": 1,
   "metadata": {},
   "outputs": [],
   "source": [
    "using SumOfSquares\n",
    "using DynamicPolynomials\n",
    "using Mosek\n",
    "using MosekTools\n",
    "using SemialgebraicSets"
   ]
  },
  {
   "cell_type": "code",
   "execution_count": 2,
   "metadata": {},
   "outputs": [
    {
     "data": {
      "text/latex": [
       "$$ (a[10])z^{10} + (a[9])z^{9} + (a[8])z^{8} + (a[7])z^{7} + (a[6])z^{6} + (a[5])z^{5} + (a[4])z^{4} + (a[3])z^{3} + (a[2])z^{2} + (a[1])z + (a[0]) $$"
      ],
      "text/plain": [
       "(a[10])z¹⁰ + (a[9])z⁹ + (a[8])z⁸ + (a[7])z⁷ + (a[6])z⁶ + (a[5])z⁵ + (a[4])z⁴ + (a[3])z³ + (a[2])z² + (a[1])z + (a[0])"
      ]
     },
     "execution_count": 2,
     "metadata": {},
     "output_type": "execute_result"
    }
   ],
   "source": [
    "opt = optimizer_with_attributes(Mosek.Optimizer, \"QUIET\" => true);\n",
    "model = SOSModel(opt)\n",
    "\n",
    "@polyvar z\n",
    "S = @set -1 <= z && z <= 1 # живем на [-1, 1]\n",
    "\n",
    "d = 10\n",
    "@variable(model, a[0:d])\n",
    "p = sum([a[i] * z^i for i in 0:d])"
   ]
  },
  {
   "cell_type": "code",
   "execution_count": 3,
   "metadata": {},
   "outputs": [
    {
     "data": {
      "text/latex": [
       "$ (a[10])z^{10} + (a[9])z^{9} + (a[8])z^{8} + (a[7])z^{7} + (a[6])z^{6} + (a[5])z^{5} + (a[4])z^{4} + (a[3])z^{3} + (a[2])z^{2} + (a[1])z + (a[0] + 1) \\text{ is SOS} $"
      ],
      "text/plain": [
       "(a[10])z¹⁰ + (a[9])z⁹ + (a[8])z⁸ + (a[7])z⁷ + (a[6])z⁶ + (a[5])z⁵ + (a[4])z⁴ + (a[3])z³ + (a[2])z² + (a[1])z + (a[0] + 1) is SOS"
      ]
     },
     "execution_count": 3,
     "metadata": {},
     "output_type": "execute_result"
    }
   ],
   "source": [
    "@objective(model, Max, a[d]) # функция L, которую оптимизируем\n",
    "@constraint(model, p <= 1, domain = S)\n",
    "@constraint(model, p >= -1, domain = S)"
   ]
  },
  {
   "cell_type": "code",
   "execution_count": 4,
   "metadata": {},
   "outputs": [],
   "source": [
    "optimize!(model)"
   ]
  },
  {
   "cell_type": "code",
   "execution_count": 5,
   "metadata": {},
   "outputs": [
    {
     "data": {
      "text/latex": [
       "$$ 511.9999962549675z^{10} + 3.294303089955077e-8z^{9} - 1279.999990250578z^{8} - 6.894012698563223e-8z^{7} + 1119.9999911124535z^{6} + 4.701037338930788e-8z^{5} - 399.9999967084261z^{4} - 1.1565773067861164e-8z^{3} + 49.99999957877693z^{2} + 7.358655835241071e-10z - 0.9999999910424843 $$"
      ],
      "text/plain": [
       "511.9999962549675z¹⁰ + 3.294303089955077e-8z⁹ - 1279.999990250578z⁸ - 6.894012698563223e-8z⁷ + 1119.9999911124535z⁶ + 4.701037338930788e-8z⁵ - 399.9999967084261z⁴ - 1.1565773067861164e-8z³ + 49.99999957877693z² + 7.358655835241071e-10z - 0.9999999910424843"
      ]
     },
     "execution_count": 5,
     "metadata": {},
     "output_type": "execute_result"
    }
   ],
   "source": [
    "value(p)"
   ]
  },
  {
   "cell_type": "code",
   "execution_count": 6,
   "metadata": {},
   "outputs": [
    {
     "data": {
      "text/latex": [
       "$$ 512.0z^{10} - 1280.0z^{8} + 1120.0z^{6} - 400.0z^{4} + 50.0z^{2} - 1.0 $$"
      ],
      "text/plain": [
       "512.0z¹⁰ - 1280.0z⁸ + 1120.0z⁶ - 400.0z⁴ + 50.0z² - 1.0"
      ]
     },
     "execution_count": 6,
     "metadata": {},
     "output_type": "execute_result"
    }
   ],
   "source": [
    "round(value(p), digits = 3)"
   ]
  },
  {
   "cell_type": "markdown",
   "metadata": {},
   "source": [
    "## Эксперимент: Наименьшее уклонение на двух отрезках сразу"
   ]
  },
  {
   "cell_type": "code",
   "execution_count": 7,
   "metadata": {},
   "outputs": [],
   "source": [
    "opt = optimizer_with_attributes(Mosek.Optimizer, \"QUIET\" => true);\n",
    "model = SOSModel(opt)\n",
    "\n",
    "@polyvar z\n",
    "S = @set (z - 2) * (z - 1) * (z + 1) * (z + 2) <= 0 # NEW\n",
    "# живем [-2, -1] в [1, 2]\n",
    "\n",
    "d = 4\n",
    "@variable(model, a[0:d])\n",
    "p = sum([a[i] * z^i for i in 0:d])\n",
    "\n",
    "@objective(model, Max, a[d])\n",
    "@constraint(model, p <= 1, domain = S)\n",
    "@constraint(model, p >= -1, domain = S)\n",
    "\n",
    "optimize!(model)"
   ]
  },
  {
   "cell_type": "code",
   "execution_count": 8,
   "metadata": {},
   "outputs": [
    {
     "data": {
      "text/latex": [
       "$$ 0.8888888896752403z^{4} - 4.444444446977403z^{2} + 4.5555555564390575 $$"
      ],
      "text/plain": [
       "0.8888888896752403z⁴ - 4.444444446977403z² + 4.5555555564390575"
      ]
     },
     "execution_count": 8,
     "metadata": {},
     "output_type": "execute_result"
    }
   ],
   "source": [
    "value(p)"
   ]
  },
  {
   "cell_type": "code",
   "execution_count": 9,
   "metadata": {},
   "outputs": [
    {
     "data": {
      "text/latex": [
       "$$ 0.88889z^{4} - 4.44444z^{2} + 4.55556 $$"
      ],
      "text/plain": [
       "0.88889z⁴ - 4.44444z² + 4.55556"
      ]
     },
     "execution_count": 9,
     "metadata": {},
     "output_type": "execute_result"
    }
   ],
   "source": [
    "round(value(p), digits = 5)"
   ]
  },
  {
   "cell_type": "markdown",
   "metadata": {},
   "source": [
    "Видно, что здесь приятные рациональные числа! Для других значений d всё менее очевидно - надо раскладывать в цепные дроби и подбирать. Если есть интерес - смело пробуйте"
   ]
  },
  {
   "cell_type": "code",
   "execution_count": null,
   "metadata": {},
   "outputs": [],
   "source": []
  }
 ],
 "metadata": {
  "kernelspec": {
   "display_name": "Julia 1.4.2",
   "language": "julia",
   "name": "julia-1.4"
  },
  "language_info": {
   "file_extension": ".jl",
   "mimetype": "application/julia",
   "name": "julia",
   "version": "1.4.2"
  }
 },
 "nbformat": 4,
 "nbformat_minor": 4
}
